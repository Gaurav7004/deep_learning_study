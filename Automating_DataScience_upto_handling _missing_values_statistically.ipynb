{
  "nbformat": 4,
  "nbformat_minor": 0,
  "metadata": {
    "colab": {
      "name": "Automating_DataScience.ipynb",
      "provenance": [],
      "collapsed_sections": [],
      "authorship_tag": "ABX9TyPnAe5F1X84KlOGr815o7xZ",
      "include_colab_link": true
    },
    "kernelspec": {
      "name": "python3",
      "display_name": "Python 3"
    },
    "accelerator": "TPU"
  },
  "cells": [
    {
      "cell_type": "markdown",
      "metadata": {
        "id": "view-in-github",
        "colab_type": "text"
      },
      "source": [
        "<a href=\"https://colab.research.google.com/github/Gaurav7004/deep_learning_study/blob/master/Automating_DataScience_upto_handling%20_missing_values_statistically.ipynb\" target=\"_parent\"><img src=\"https://colab.research.google.com/assets/colab-badge.svg\" alt=\"Open In Colab\"/></a>"
      ]
    },
    {
      "cell_type": "code",
      "metadata": {
        "id": "ox4Vd_VEXJ2Y",
        "colab_type": "code",
        "colab": {}
      },
      "source": [
        "# Importing libraries\n",
        "\n",
        "import sys\n",
        "import os\n",
        "import pandas as pd\n",
        "import numpy as np\n",
        "\n",
        "# Libraries for handling data_preprocessing\n",
        "\n",
        "from numpy import nan\n",
        "from pandas import read_csv\n",
        "from sklearn.ensemble import RandomForestClassifier\n",
        "from sklearn.impute import KNNImputer\n",
        "from sklearn.pipeline import Pipeline"
      ],
      "execution_count": 3,
      "outputs": []
    },
    {
      "cell_type": "code",
      "metadata": {
        "id": "imoRxrmEsGhu",
        "colab_type": "code",
        "colab": {}
      },
      "source": [
        "# This module takes path of any random dataset from the user\n",
        "\n",
        "class User_Input():\n",
        "  # Taking File Path as input from the user\n",
        "  user_input = input(\"Enter the path of your file: \")\n",
        "\n",
        "  # The assert keyword lets you test if a condition in your code returns True, if not, the program will raise an AssertionError.\n",
        "  assert os.path.exists(user_input), \" did not find the file at, \"+str(user_input)\n",
        "  user_file = open(user_input,'r+')\n",
        "\n",
        "  print(\" found the file !\")\n",
        "\n",
        "  for fp in user_file:\n",
        "      # Split the extension from the path and normalise it to lowercase.\n",
        "      ext = os.path.splitext(fp)[-1].lower().suffix()\n",
        "\n",
        "      # For handling breakdown in case of any errors\n",
        "      try:\n",
        "        # Now we can simply use .endswith to check for equality, no need for wildcards.\n",
        "        # For handling csv files\n",
        "        if ext.endswith('.csv'):\n",
        "            df = pd.read_csv(user_input)\n",
        "\n",
        "        # For handling excel files\n",
        "        elif ext.endswith('.xlsx'):\n",
        "            df = pd.read_excel()\n",
        "\n",
        "        # For handling json files\n",
        "        elif ext.endswith('.json'):\n",
        "            df = pd.read_json(user_input)\n",
        "\n",
        "        # For handing unknown files types\n",
        "        else:\n",
        "            print( fp,\"is an unknown file format.\")\n",
        "            break\n",
        "\n",
        "      # to handle the situation if try block gets failed\n",
        "      except:\n",
        "          pass\n",
        "\n",
        "  user_file.close()"
      ],
      "execution_count": null,
      "outputs": []
    },
    {
      "cell_type": "code",
      "metadata": {
        "id": "Wa-Ny2tDecYR",
        "colab_type": "code",
        "colab": {
          "base_uri": "https://localhost:8080/",
          "height": 258
        },
        "outputId": "a08b3f51-89de-4064-a2af-00b903a4872a"
      },
      "source": [
        "# dummy for testing only csv files\n",
        "df = pd.read_csv('titanic.csv')\n",
        "df.head()"
      ],
      "execution_count": 4,
      "outputs": [
        {
          "output_type": "execute_result",
          "data": {
            "text/html": [
              "<div>\n",
              "<style scoped>\n",
              "    .dataframe tbody tr th:only-of-type {\n",
              "        vertical-align: middle;\n",
              "    }\n",
              "\n",
              "    .dataframe tbody tr th {\n",
              "        vertical-align: top;\n",
              "    }\n",
              "\n",
              "    .dataframe thead th {\n",
              "        text-align: right;\n",
              "    }\n",
              "</style>\n",
              "<table border=\"1\" class=\"dataframe\">\n",
              "  <thead>\n",
              "    <tr style=\"text-align: right;\">\n",
              "      <th></th>\n",
              "      <th>PassengerId</th>\n",
              "      <th>Survived</th>\n",
              "      <th>Pclass</th>\n",
              "      <th>Name</th>\n",
              "      <th>Sex</th>\n",
              "      <th>Age</th>\n",
              "      <th>SibSp</th>\n",
              "      <th>Parch</th>\n",
              "      <th>Ticket</th>\n",
              "      <th>Fare</th>\n",
              "      <th>Cabin</th>\n",
              "      <th>Embarked</th>\n",
              "    </tr>\n",
              "  </thead>\n",
              "  <tbody>\n",
              "    <tr>\n",
              "      <th>0</th>\n",
              "      <td>1</td>\n",
              "      <td>0</td>\n",
              "      <td>3</td>\n",
              "      <td>Braund, Mr. Owen Harris</td>\n",
              "      <td>male</td>\n",
              "      <td>22.0</td>\n",
              "      <td>1</td>\n",
              "      <td>0</td>\n",
              "      <td>A/5 21171</td>\n",
              "      <td>7.2500</td>\n",
              "      <td>NaN</td>\n",
              "      <td>S</td>\n",
              "    </tr>\n",
              "    <tr>\n",
              "      <th>1</th>\n",
              "      <td>2</td>\n",
              "      <td>1</td>\n",
              "      <td>1</td>\n",
              "      <td>Cumings, Mrs. John Bradley (Florence Briggs Th...</td>\n",
              "      <td>female</td>\n",
              "      <td>38.0</td>\n",
              "      <td>1</td>\n",
              "      <td>0</td>\n",
              "      <td>PC 17599</td>\n",
              "      <td>71.2833</td>\n",
              "      <td>C85</td>\n",
              "      <td>C</td>\n",
              "    </tr>\n",
              "    <tr>\n",
              "      <th>2</th>\n",
              "      <td>3</td>\n",
              "      <td>1</td>\n",
              "      <td>3</td>\n",
              "      <td>Heikkinen, Miss. Laina</td>\n",
              "      <td>female</td>\n",
              "      <td>26.0</td>\n",
              "      <td>0</td>\n",
              "      <td>0</td>\n",
              "      <td>STON/O2. 3101282</td>\n",
              "      <td>7.9250</td>\n",
              "      <td>NaN</td>\n",
              "      <td>S</td>\n",
              "    </tr>\n",
              "    <tr>\n",
              "      <th>3</th>\n",
              "      <td>4</td>\n",
              "      <td>1</td>\n",
              "      <td>1</td>\n",
              "      <td>Futrelle, Mrs. Jacques Heath (Lily May Peel)</td>\n",
              "      <td>female</td>\n",
              "      <td>35.0</td>\n",
              "      <td>1</td>\n",
              "      <td>0</td>\n",
              "      <td>113803</td>\n",
              "      <td>53.1000</td>\n",
              "      <td>C123</td>\n",
              "      <td>S</td>\n",
              "    </tr>\n",
              "    <tr>\n",
              "      <th>4</th>\n",
              "      <td>5</td>\n",
              "      <td>0</td>\n",
              "      <td>3</td>\n",
              "      <td>Allen, Mr. William Henry</td>\n",
              "      <td>male</td>\n",
              "      <td>35.0</td>\n",
              "      <td>0</td>\n",
              "      <td>0</td>\n",
              "      <td>373450</td>\n",
              "      <td>8.0500</td>\n",
              "      <td>NaN</td>\n",
              "      <td>S</td>\n",
              "    </tr>\n",
              "  </tbody>\n",
              "</table>\n",
              "</div>"
            ],
            "text/plain": [
              "   PassengerId  Survived  Pclass  ...     Fare Cabin  Embarked\n",
              "0            1         0       3  ...   7.2500   NaN         S\n",
              "1            2         1       1  ...  71.2833   C85         C\n",
              "2            3         1       3  ...   7.9250   NaN         S\n",
              "3            4         1       1  ...  53.1000  C123         S\n",
              "4            5         0       3  ...   8.0500   NaN         S\n",
              "\n",
              "[5 rows x 12 columns]"
            ]
          },
          "metadata": {
            "tags": []
          },
          "execution_count": 4
        }
      ]
    },
    {
      "cell_type": "code",
      "metadata": {
        "id": "qHhQF37WR_IX",
        "colab_type": "code",
        "colab": {}
      },
      "source": [
        "# # handling missing values\n",
        "# class handling_missing_data():\n",
        "\n",
        "#   # Imputation\n",
        "#   # Handling columns which have null values\n",
        "  \n",
        "#   for col in df.columns.values:\n",
        "\n",
        "#     if (pd.DataFrame(df).astype(pd.Series([np.integer]))):\n",
        "\n",
        "#       df = df.select_dtypes(include=[np.integer]).fillna(df.select_dtypes(include=[np.integer]).mean().iloc[0], inplace=True)\n",
        "  \n",
        "#     elif (pd.DataFrame(df).astype(pd.Series([object, str]))):\n",
        "        \n",
        "#       df = df.select_dtypes(include=['object', 'str']).fillna(df.select_dtypes(include=['object', 'str']).mode().iloc[0], inplace=True)\n",
        "\n",
        "#   print(df.head())\n"
      ],
      "execution_count": 16,
      "outputs": []
    },
    {
      "cell_type": "code",
      "metadata": {
        "id": "D5KpL57RvOkI",
        "colab_type": "code",
        "colab": {}
      },
      "source": [
        "# handling missing values\n",
        "class handling_missing_data():\n",
        "\n",
        "  # Imputation\n",
        "  # Handling columns which have null values\n",
        "\n",
        "  # Select number columns.\n",
        "  selectNum == df.select_dtypes('number')\n",
        "  # Fill numeric columns with mean.\n",
        "  df[selectNum.columns] = selectNum.fillna(selectNum.mean())\n",
        "\n",
        "  # Select string and object columns.\n",
        "  selectObj == df.select_dtypes('object')\n",
        "  # Fill object columns with mode.\n",
        "  df[selectObj.columns] = selectObj.fillna(selectObj.agg(lambda x: x.mode().values[0]))"
      ],
      "execution_count": 10,
      "outputs": []
    },
    {
      "cell_type": "code",
      "metadata": {
        "id": "VwpcXWOF_dx1",
        "colab_type": "code",
        "colab": {
          "base_uri": "https://localhost:8080/",
          "height": 34
        },
        "outputId": "16e417f3-cb60-44d7-92cc-f01cec1e8c30"
      },
      "source": [
        "\n",
        "if (df.isnull == False):\n",
        "  pass\n",
        "else :\n",
        "  print('All the values in columns are not handled properly')"
      ],
      "execution_count": 15,
      "outputs": [
        {
          "output_type": "stream",
          "text": [
            "All the values in columns are not handled properly\n"
          ],
          "name": "stdout"
        }
      ]
    },
    {
      "cell_type": "code",
      "metadata": {
        "id": "ltRwpIxkP22L",
        "colab_type": "code",
        "colab": {}
      },
      "source": [
        ""
      ],
      "execution_count": null,
      "outputs": []
    },
    {
      "cell_type": "code",
      "metadata": {
        "id": "hX25tIHnVfgo",
        "colab_type": "code",
        "colab": {}
      },
      "source": [
        "# handling feature scaling\n",
        "class feature_scaling():\n",
        "  def standardization():\n",
        "\n",
        "  def mean_normalization():\n",
        "\n",
        "  def min_max_scaling():\n",
        "\n",
        "  def unit_vectorization():\n",
        "    "
      ],
      "execution_count": null,
      "outputs": []
    },
    {
      "cell_type": "code",
      "metadata": {
        "id": "8Lm3idwhZ6d_",
        "colab_type": "code",
        "colab": {}
      },
      "source": [
        "# handling feature engineering\n",
        "class feature_engineering():\n",
        "  # nominal encoding of data points\n",
        "  def nominal_encoding():\n",
        "    def one_hot_encoding():\n",
        "\n",
        "    def one_hot_encoding_with_many_categories():\n",
        "\n",
        "    def mean_encoding():\n",
        "\n",
        "  # ordinal encoding of data points\n",
        "  def ordinal_encoding():\n",
        "    def label_encoding():\n",
        "\n",
        "    def target_guided_ordinal_encoding():\n"
      ],
      "execution_count": null,
      "outputs": []
    },
    {
      "cell_type": "code",
      "metadata": {
        "id": "x4DI8H88dVVN",
        "colab_type": "code",
        "colab": {
          "base_uri": "https://localhost:8080/",
          "height": 34
        },
        "outputId": "e1980b7d-1ac1-4768-d160-7f56cb1eabb9"
      },
      "source": [
        "cd content/sample_data/california_housing_test.csv"
      ],
      "execution_count": null,
      "outputs": [
        {
          "output_type": "stream",
          "text": [
            "/content\n"
          ],
          "name": "stdout"
        }
      ]
    },
    {
      "cell_type": "code",
      "metadata": {
        "id": "arfcNqc4dv6P",
        "colab_type": "code",
        "colab": {
          "base_uri": "https://localhost:8080/",
          "height": 34
        },
        "outputId": "287d9f04-5e63-4a55-c70e-1ad96b7a3b36"
      },
      "source": [
        "ls"
      ],
      "execution_count": null,
      "outputs": [
        {
          "output_type": "stream",
          "text": [
            "\u001b[0m\u001b[01;34msample_data\u001b[0m/  Students.xlsx  titanic.csv\n"
          ],
          "name": "stdout"
        }
      ]
    },
    {
      "cell_type": "code",
      "metadata": {
        "id": "B8OLlyRk-fka",
        "colab_type": "code",
        "colab": {
          "base_uri": "https://localhost:8080/",
          "height": 34
        },
        "outputId": "aea5bf0c-ccf3-4836-850a-15eed3df5307"
      },
      "source": [
        "cd sample_data/california_housing_test.csv "
      ],
      "execution_count": null,
      "outputs": [
        {
          "output_type": "stream",
          "text": [
            "/content/sample_data\n"
          ],
          "name": "stdout"
        }
      ]
    },
    {
      "cell_type": "code",
      "metadata": {
        "id": "0fipGrYwUuaQ",
        "colab_type": "code",
        "colab": {
          "base_uri": "https://localhost:8080/",
          "height": 69
        },
        "outputId": "daebc318-caf4-4b22-a73a-b90fc5af87da"
      },
      "source": [
        "ls"
      ],
      "execution_count": null,
      "outputs": [
        {
          "output_type": "stream",
          "text": [
            "\u001b[0m\u001b[01;32manscombe.json\u001b[0m*                mnist_test.csv\n",
            "california_housing_test.csv   mnist_train_small.csv\n",
            "california_housing_train.csv  \u001b[01;32mREADME.md\u001b[0m*\n"
          ],
          "name": "stdout"
        }
      ]
    },
    {
      "cell_type": "code",
      "metadata": {
        "id": "1hmXrPu4UvbG",
        "colab_type": "code",
        "colab": {}
      },
      "source": [
        ""
      ],
      "execution_count": null,
      "outputs": []
    }
  ]
}