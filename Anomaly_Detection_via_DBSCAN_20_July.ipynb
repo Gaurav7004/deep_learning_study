{
  "nbformat": 4,
  "nbformat_minor": 0,
  "metadata": {
    "kernelspec": {
      "display_name": "Python 3",
      "language": "python",
      "name": "python3"
    },
    "language_info": {
      "codemirror_mode": {
        "name": "ipython",
        "version": 3
      },
      "file_extension": ".py",
      "mimetype": "text/x-python",
      "name": "python",
      "nbconvert_exporter": "python",
      "pygments_lexer": "ipython3",
      "version": "3.7.3"
    },
    "colab": {
      "name": "Anomaly_Detection.ipynb",
      "provenance": [],
      "collapsed_sections": [],
      "include_colab_link": true
    }
  },
  "cells": [
    {
      "cell_type": "markdown",
      "metadata": {
        "id": "view-in-github",
        "colab_type": "text"
      },
      "source": [
        "<a href=\"https://colab.research.google.com/github/Gaurav7004/deep_learning_study/blob/master/Anomaly_Detection_via_DBSCAN_20_July.ipynb\" target=\"_parent\"><img src=\"https://colab.research.google.com/assets/colab-badge.svg\" alt=\"Open In Colab\"/></a>"
      ]
    },
    {
      "cell_type": "code",
      "metadata": {
        "id": "a2FFF1wT1iHz",
        "colab_type": "code",
        "colab": {}
      },
      "source": [
        "import os\n",
        "import re\n",
        "import numpy as np\n",
        "import pandas as pd\n",
        "import matplotlib.pyplot as plt\n",
        "from sklearn.preprocessing import MinMaxScaler, StandardScaler\n",
        "from sklearn.cluster import DBSCAN\n",
        "from sklearn.neighbors import NearestNeighbors"
      ],
      "execution_count": 1,
      "outputs": []
    },
    {
      "cell_type": "code",
      "metadata": {
        "id": "d7roSlji1iH_",
        "colab_type": "code",
        "colab": {
          "base_uri": "https://localhost:8080/",
          "height": 143
        },
        "outputId": "61a87f67-245e-4e97-ee07-caec43b0451f"
      },
      "source": [
        "df_1 = pd.read_csv('Age_Weight.csv')\n",
        "df_1.head(3)"
      ],
      "execution_count": 2,
      "outputs": [
        {
          "output_type": "execute_result",
          "data": {
            "text/html": [
              "<div>\n",
              "<style scoped>\n",
              "    .dataframe tbody tr th:only-of-type {\n",
              "        vertical-align: middle;\n",
              "    }\n",
              "\n",
              "    .dataframe tbody tr th {\n",
              "        vertical-align: top;\n",
              "    }\n",
              "\n",
              "    .dataframe thead th {\n",
              "        text-align: right;\n",
              "    }\n",
              "</style>\n",
              "<table border=\"1\" class=\"dataframe\">\n",
              "  <thead>\n",
              "    <tr style=\"text-align: right;\">\n",
              "      <th></th>\n",
              "      <th>Gender</th>\n",
              "      <th>Height</th>\n",
              "      <th>Weight</th>\n",
              "      <th>Index</th>\n",
              "    </tr>\n",
              "  </thead>\n",
              "  <tbody>\n",
              "    <tr>\n",
              "      <th>0</th>\n",
              "      <td>Male</td>\n",
              "      <td>174</td>\n",
              "      <td>96</td>\n",
              "      <td>4</td>\n",
              "    </tr>\n",
              "    <tr>\n",
              "      <th>1</th>\n",
              "      <td>Male</td>\n",
              "      <td>189</td>\n",
              "      <td>87</td>\n",
              "      <td>2</td>\n",
              "    </tr>\n",
              "    <tr>\n",
              "      <th>2</th>\n",
              "      <td>Female</td>\n",
              "      <td>185</td>\n",
              "      <td>110</td>\n",
              "      <td>4</td>\n",
              "    </tr>\n",
              "  </tbody>\n",
              "</table>\n",
              "</div>"
            ],
            "text/plain": [
              "   Gender  Height  Weight  Index\n",
              "0    Male     174      96      4\n",
              "1    Male     189      87      2\n",
              "2  Female     185     110      4"
            ]
          },
          "metadata": {
            "tags": []
          },
          "execution_count": 2
        }
      ]
    },
    {
      "cell_type": "code",
      "metadata": {
        "id": "WYS5S9h71iIM",
        "colab_type": "code",
        "colab": {
          "base_uri": "https://localhost:8080/",
          "height": 143
        },
        "outputId": "a2e18022-b9ee-489b-f5dd-a2f6d899b89c"
      },
      "source": [
        "df_1['Gender'] = np.where(df_1['Gender']=='Male',1,0)\n",
        "df_1.head(3)"
      ],
      "execution_count": 3,
      "outputs": [
        {
          "output_type": "execute_result",
          "data": {
            "text/html": [
              "<div>\n",
              "<style scoped>\n",
              "    .dataframe tbody tr th:only-of-type {\n",
              "        vertical-align: middle;\n",
              "    }\n",
              "\n",
              "    .dataframe tbody tr th {\n",
              "        vertical-align: top;\n",
              "    }\n",
              "\n",
              "    .dataframe thead th {\n",
              "        text-align: right;\n",
              "    }\n",
              "</style>\n",
              "<table border=\"1\" class=\"dataframe\">\n",
              "  <thead>\n",
              "    <tr style=\"text-align: right;\">\n",
              "      <th></th>\n",
              "      <th>Gender</th>\n",
              "      <th>Height</th>\n",
              "      <th>Weight</th>\n",
              "      <th>Index</th>\n",
              "    </tr>\n",
              "  </thead>\n",
              "  <tbody>\n",
              "    <tr>\n",
              "      <th>0</th>\n",
              "      <td>1</td>\n",
              "      <td>174</td>\n",
              "      <td>96</td>\n",
              "      <td>4</td>\n",
              "    </tr>\n",
              "    <tr>\n",
              "      <th>1</th>\n",
              "      <td>1</td>\n",
              "      <td>189</td>\n",
              "      <td>87</td>\n",
              "      <td>2</td>\n",
              "    </tr>\n",
              "    <tr>\n",
              "      <th>2</th>\n",
              "      <td>0</td>\n",
              "      <td>185</td>\n",
              "      <td>110</td>\n",
              "      <td>4</td>\n",
              "    </tr>\n",
              "  </tbody>\n",
              "</table>\n",
              "</div>"
            ],
            "text/plain": [
              "   Gender  Height  Weight  Index\n",
              "0       1     174      96      4\n",
              "1       1     189      87      2\n",
              "2       0     185     110      4"
            ]
          },
          "metadata": {
            "tags": []
          },
          "execution_count": 3
        }
      ]
    },
    {
      "cell_type": "code",
      "metadata": {
        "id": "ZgmZDAyX1iIV",
        "colab_type": "code",
        "colab": {}
      },
      "source": [
        "# including all the columns\n",
        "\n",
        "as_br_with_na = df_1[[\"Weight\", \"Height\", \"Gender\", \"Index\"]]"
      ],
      "execution_count": 4,
      "outputs": []
    },
    {
      "cell_type": "code",
      "metadata": {
        "id": "LMdC7d7I1iIc",
        "colab_type": "code",
        "colab": {}
      },
      "source": [
        "# Dropped rows having null values\n",
        "\n",
        "as_br_nona = as_br_with_na.dropna()"
      ],
      "execution_count": 5,
      "outputs": []
    },
    {
      "cell_type": "code",
      "metadata": {
        "id": "d3uyYaun1iIk",
        "colab_type": "code",
        "colab": {}
      },
      "source": [
        "# Converted to csv (removed null values)\n",
        "\n",
        "as_br_nona.to_csv(\"as_br_nona.csv\")"
      ],
      "execution_count": 6,
      "outputs": []
    },
    {
      "cell_type": "code",
      "metadata": {
        "id": "CW-UYBOH1iIr",
        "colab_type": "code",
        "colab": {}
      },
      "source": [
        "# Take any number of columns\n",
        "\n",
        "as_br = as_br_nona[[\"Weight\", \"Height\", \"Gender\"]]"
      ],
      "execution_count": 47,
      "outputs": []
    },
    {
      "cell_type": "code",
      "metadata": {
        "id": "8Np39Hgd1iIw",
        "colab_type": "code",
        "colab": {
          "base_uri": "https://localhost:8080/",
          "height": 143
        },
        "outputId": "3ebedc05-9395-4777-d9f9-c179c1317cc4"
      },
      "source": [
        "# Resetting the index via adding new index column\n",
        "\n",
        "as_br1 = as_br.reset_index()\n",
        "as_br1.head(3)"
      ],
      "execution_count": 48,
      "outputs": [
        {
          "output_type": "execute_result",
          "data": {
            "text/html": [
              "<div>\n",
              "<style scoped>\n",
              "    .dataframe tbody tr th:only-of-type {\n",
              "        vertical-align: middle;\n",
              "    }\n",
              "\n",
              "    .dataframe tbody tr th {\n",
              "        vertical-align: top;\n",
              "    }\n",
              "\n",
              "    .dataframe thead th {\n",
              "        text-align: right;\n",
              "    }\n",
              "</style>\n",
              "<table border=\"1\" class=\"dataframe\">\n",
              "  <thead>\n",
              "    <tr style=\"text-align: right;\">\n",
              "      <th></th>\n",
              "      <th>index</th>\n",
              "      <th>Weight</th>\n",
              "      <th>Height</th>\n",
              "      <th>Gender</th>\n",
              "    </tr>\n",
              "  </thead>\n",
              "  <tbody>\n",
              "    <tr>\n",
              "      <th>0</th>\n",
              "      <td>0</td>\n",
              "      <td>96</td>\n",
              "      <td>174</td>\n",
              "      <td>1</td>\n",
              "    </tr>\n",
              "    <tr>\n",
              "      <th>1</th>\n",
              "      <td>1</td>\n",
              "      <td>87</td>\n",
              "      <td>189</td>\n",
              "      <td>1</td>\n",
              "    </tr>\n",
              "    <tr>\n",
              "      <th>2</th>\n",
              "      <td>2</td>\n",
              "      <td>110</td>\n",
              "      <td>185</td>\n",
              "      <td>0</td>\n",
              "    </tr>\n",
              "  </tbody>\n",
              "</table>\n",
              "</div>"
            ],
            "text/plain": [
              "   index  Weight  Height  Gender\n",
              "0      0      96     174       1\n",
              "1      1      87     189       1\n",
              "2      2     110     185       0"
            ]
          },
          "metadata": {
            "tags": []
          },
          "execution_count": 48
        }
      ]
    },
    {
      "cell_type": "code",
      "metadata": {
        "id": "Uc7LeOYl1iI2",
        "colab_type": "code",
        "colab": {
          "base_uri": "https://localhost:8080/",
          "height": 206
        },
        "outputId": "4ff271db-12e3-41ba-df80-266501e2301f"
      },
      "source": [
        "# Saved reset index dataset to csv\n",
        "\n",
        "as_br1.to_csv(\"as_br1.csv\")\n",
        "as_br1.head()"
      ],
      "execution_count": 49,
      "outputs": [
        {
          "output_type": "execute_result",
          "data": {
            "text/html": [
              "<div>\n",
              "<style scoped>\n",
              "    .dataframe tbody tr th:only-of-type {\n",
              "        vertical-align: middle;\n",
              "    }\n",
              "\n",
              "    .dataframe tbody tr th {\n",
              "        vertical-align: top;\n",
              "    }\n",
              "\n",
              "    .dataframe thead th {\n",
              "        text-align: right;\n",
              "    }\n",
              "</style>\n",
              "<table border=\"1\" class=\"dataframe\">\n",
              "  <thead>\n",
              "    <tr style=\"text-align: right;\">\n",
              "      <th></th>\n",
              "      <th>index</th>\n",
              "      <th>Weight</th>\n",
              "      <th>Height</th>\n",
              "      <th>Gender</th>\n",
              "    </tr>\n",
              "  </thead>\n",
              "  <tbody>\n",
              "    <tr>\n",
              "      <th>0</th>\n",
              "      <td>0</td>\n",
              "      <td>96</td>\n",
              "      <td>174</td>\n",
              "      <td>1</td>\n",
              "    </tr>\n",
              "    <tr>\n",
              "      <th>1</th>\n",
              "      <td>1</td>\n",
              "      <td>87</td>\n",
              "      <td>189</td>\n",
              "      <td>1</td>\n",
              "    </tr>\n",
              "    <tr>\n",
              "      <th>2</th>\n",
              "      <td>2</td>\n",
              "      <td>110</td>\n",
              "      <td>185</td>\n",
              "      <td>0</td>\n",
              "    </tr>\n",
              "    <tr>\n",
              "      <th>3</th>\n",
              "      <td>3</td>\n",
              "      <td>104</td>\n",
              "      <td>195</td>\n",
              "      <td>0</td>\n",
              "    </tr>\n",
              "    <tr>\n",
              "      <th>4</th>\n",
              "      <td>4</td>\n",
              "      <td>61</td>\n",
              "      <td>149</td>\n",
              "      <td>1</td>\n",
              "    </tr>\n",
              "  </tbody>\n",
              "</table>\n",
              "</div>"
            ],
            "text/plain": [
              "   index  Weight  Height  Gender\n",
              "0      0      96     174       1\n",
              "1      1      87     189       1\n",
              "2      2     110     185       0\n",
              "3      3     104     195       0\n",
              "4      4      61     149       1"
            ]
          },
          "metadata": {
            "tags": []
          },
          "execution_count": 49
        }
      ]
    },
    {
      "cell_type": "code",
      "metadata": {
        "id": "COba7ZUE1iI9",
        "colab_type": "code",
        "colab": {}
      },
      "source": [
        "# used MinMaxScaler for scaling \n",
        "\n",
        "scaler = StandardScaler()"
      ],
      "execution_count": 50,
      "outputs": []
    },
    {
      "cell_type": "code",
      "metadata": {
        "id": "jANri7y_1iJE",
        "colab_type": "code",
        "colab": {
          "base_uri": "https://localhost:8080/",
          "height": 143
        },
        "outputId": "a7881869-9e21-4a7e-cb37-bfff819d7809"
      },
      "source": [
        "as_br = scaler.fit_transform(as_br)\n",
        "as_br = pd.DataFrame(as_br2)\n",
        "as_br.head(3)"
      ],
      "execution_count": 53,
      "outputs": [
        {
          "output_type": "execute_result",
          "data": {
            "text/html": [
              "<div>\n",
              "<style scoped>\n",
              "    .dataframe tbody tr th:only-of-type {\n",
              "        vertical-align: middle;\n",
              "    }\n",
              "\n",
              "    .dataframe tbody tr th {\n",
              "        vertical-align: top;\n",
              "    }\n",
              "\n",
              "    .dataframe thead th {\n",
              "        text-align: right;\n",
              "    }\n",
              "</style>\n",
              "<table border=\"1\" class=\"dataframe\">\n",
              "  <thead>\n",
              "    <tr style=\"text-align: right;\">\n",
              "      <th></th>\n",
              "      <th>0</th>\n",
              "      <th>1</th>\n",
              "      <th>2</th>\n",
              "    </tr>\n",
              "  </thead>\n",
              "  <tbody>\n",
              "    <tr>\n",
              "      <th>0</th>\n",
              "      <td>-0.309117</td>\n",
              "      <td>0.247939</td>\n",
              "      <td>1.020204</td>\n",
              "    </tr>\n",
              "    <tr>\n",
              "      <th>1</th>\n",
              "      <td>-0.587322</td>\n",
              "      <td>1.164872</td>\n",
              "      <td>1.020204</td>\n",
              "    </tr>\n",
              "    <tr>\n",
              "      <th>2</th>\n",
              "      <td>0.123647</td>\n",
              "      <td>0.920357</td>\n",
              "      <td>-0.980196</td>\n",
              "    </tr>\n",
              "  </tbody>\n",
              "</table>\n",
              "</div>"
            ],
            "text/plain": [
              "          0         1         2\n",
              "0 -0.309117  0.247939  1.020204\n",
              "1 -0.587322  1.164872  1.020204\n",
              "2  0.123647  0.920357 -0.980196"
            ]
          },
          "metadata": {
            "tags": []
          },
          "execution_count": 53
        }
      ]
    },
    {
      "cell_type": "code",
      "metadata": {
        "id": "RNOkIY9qSEo6",
        "colab_type": "code",
        "colab": {
          "base_uri": "https://localhost:8080/",
          "height": 173
        },
        "outputId": "c2fe1476-8730-455c-bb91-395aa8eb2bb1"
      },
      "source": [
        "# Using Silehouette analysis and Kmeans algorithm to find the ideal no. of clusters for the data\n",
        "\n",
        "from sklearn.metrics import silhouette_samples, silhouette_score\n",
        "from sklearn.cluster import KMeans\n",
        "\n",
        "# range of values to find best clusters\n",
        "n = int(input())\n",
        "range_n_clusters = [i for i in range(3, n+1)]\n",
        "\n",
        "for n_clusters in range_n_clusters:\n",
        "  clusterer = KMeans(n_clusters=n_clusters, random_state=0)\n",
        "  cluster_labels = clusterer.fit_predict(as_br)\n",
        "\n",
        "  # The silhouette distance gives the average score value for all samples.\n",
        "  # this gives a perspectiive into density and separation of formed clusters.\n",
        "  silhouette_avg = silhouette_score(as_br, cluster_labels)\n",
        "\n",
        "  # printing silhouette_score for each value of n\n",
        "  print(\"for n_clusters =\", n_clusters,\n",
        "        \"average silhouette_score is :\", silhouette_avg)\n",
        "  \n",
        "  # computing silhouette scores for each sample\n",
        "  sample_silhouette_values = silhouette_samples(as_br, cluster_labels)\n"
      ],
      "execution_count": 54,
      "outputs": [
        {
          "output_type": "stream",
          "text": [
            "10\n",
            "for n_clusters = 3 average silhouette_score is : 0.3309821277462707\n",
            "for n_clusters = 4 average silhouette_score is : 0.36164871933110326\n",
            "for n_clusters = 5 average silhouette_score is : 0.36773357998835987\n",
            "for n_clusters = 6 average silhouette_score is : 0.39103242438058705\n",
            "for n_clusters = 7 average silhouette_score is : 0.38966409305591315\n",
            "for n_clusters = 8 average silhouette_score is : 0.395650230737985\n",
            "for n_clusters = 9 average silhouette_score is : 0.3904309322048356\n",
            "for n_clusters = 10 average silhouette_score is : 0.38935075025570676\n"
          ],
          "name": "stdout"
        }
      ]
    },
    {
      "cell_type": "code",
      "metadata": {
        "id": "7URQXXixtrGI",
        "colab_type": "code",
        "colab": {
          "base_uri": "https://localhost:8080/",
          "height": 430
        },
        "outputId": "6741bfe3-ad41-46df-939e-bb3db3157c8f"
      },
      "source": [
        "# The optimal value for epsilon will be found at the point of maximum curvature.\n",
        "\n",
        "from matplotlib.pyplot import figure\n",
        "figure(num=None, figsize=(8, 6), dpi=80, facecolor='w', edgecolor='k')\n",
        "\n",
        "neigh = NearestNeighbors(n_neighbors=5)\n",
        "nbrs = neigh.fit(df_1)\n",
        "distances, indices = nbrs.kneighbors(df_1)\n",
        "\n",
        "distances = np.sort(distances, axis=0)\n",
        "distances = distances[:,1]\n",
        "plt.plot(distances)"
      ],
      "execution_count": 55,
      "outputs": [
        {
          "output_type": "execute_result",
          "data": {
            "text/plain": [
              "[<matplotlib.lines.Line2D at 0x7f7baee31438>]"
            ]
          },
          "metadata": {
            "tags": []
          },
          "execution_count": 55
        },
        {
          "output_type": "display_data",
          "data": {
            "image/png": "[encoded data removed]",
            "text/plain": [
              "<Figure size 640x480 with 1 Axes>"
            ]
          },
          "metadata": {
            "tags": []
          }
        }
      ]
    },
    {
      "cell_type": "code",
      "metadata": {
        "id": "NXRM-G4fcLgK",
        "colab_type": "code",
        "colab": {
          "base_uri": "https://localhost:8080/",
          "height": 469
        },
        "outputId": "e063743e-dcec-436e-873f-f4c2d5e79d6c"
      },
      "source": [
        "# According to the above graph decided the range of epsilon values\n",
        "\n",
        "stepsize = float(input())\n",
        "start = float(input())\n",
        "stop = float(input())\n",
        "\n",
        "# variable range of epsillon\n",
        "range_eps = np.arange(start, stop, stepsize)\n",
        "\n",
        "for i in range_eps:\n",
        "  print(\"eps value is : \"+str(i))\n",
        "  db = DBSCAN(eps=i, min_samples=4).fit(as_br)\n",
        "  core_samples_mask = np.zeros_like(db.labels_, dtype=bool)\n",
        "  core_samples_mask[db.core_sample_indices_] = True\n",
        "  labels = db.labels_\n",
        "  print(set(labels))\n",
        "  silhouette_avg = silhouette_score(as_br, labels, metric='euclidean')\n",
        "  print(\"eps value =\" + str(i),\"\\n\" \n",
        "        \"average silhouette_score : \", silhouette_avg)\n",
        "  print(\"\\n\\n\")"
      ],
      "execution_count": 57,
      "outputs": [
        {
          "output_type": "stream",
          "text": [
            "0.1\n",
            "2.5\n",
            "4.2\n",
            "eps value is : 2.5\n",
            "{0}\n"
          ],
          "name": "stdout"
        },
        {
          "output_type": "error",
          "ename": "ValueError",
          "evalue": "ignored",
          "traceback": [
            "\u001b[0;31m---------------------------------------------------------------------------\u001b[0m",
            "\u001b[0;31mValueError\u001b[0m                                Traceback (most recent call last)",
            "\u001b[0;32m<ipython-input-57-8a51c290d372>\u001b[0m in \u001b[0;36m<module>\u001b[0;34m()\u001b[0m\n\u001b[1;32m     15\u001b[0m   \u001b[0mlabels\u001b[0m \u001b[0;34m=\u001b[0m \u001b[0mdb\u001b[0m\u001b[0;34m.\u001b[0m\u001b[0mlabels_\u001b[0m\u001b[0;34m\u001b[0m\u001b[0;34m\u001b[0m\u001b[0m\n\u001b[1;32m     16\u001b[0m   \u001b[0mprint\u001b[0m\u001b[0;34m(\u001b[0m\u001b[0mset\u001b[0m\u001b[0;34m(\u001b[0m\u001b[0mlabels\u001b[0m\u001b[0;34m)\u001b[0m\u001b[0;34m)\u001b[0m\u001b[0;34m\u001b[0m\u001b[0;34m\u001b[0m\u001b[0m\n\u001b[0;32m---> 17\u001b[0;31m   \u001b[0msilhouette_avg\u001b[0m \u001b[0;34m=\u001b[0m \u001b[0msilhouette_score\u001b[0m\u001b[0;34m(\u001b[0m\u001b[0mas_br\u001b[0m\u001b[0;34m,\u001b[0m \u001b[0mlabels\u001b[0m\u001b[0;34m,\u001b[0m \u001b[0mmetric\u001b[0m\u001b[0;34m=\u001b[0m\u001b[0;34m'euclidean'\u001b[0m\u001b[0;34m)\u001b[0m\u001b[0;34m\u001b[0m\u001b[0;34m\u001b[0m\u001b[0m\n\u001b[0m\u001b[1;32m     18\u001b[0m   print(\"eps value =\" + str(i),\"\\n\" \n\u001b[1;32m     19\u001b[0m         \"average silhouette_score : \", silhouette_avg)\n",
            "\u001b[0;32m/usr/local/lib/python3.6/dist-packages/sklearn/metrics/cluster/_unsupervised.py\u001b[0m in \u001b[0;36msilhouette_score\u001b[0;34m(X, labels, metric, sample_size, random_state, **kwds)\u001b[0m\n\u001b[1;32m    115\u001b[0m         \u001b[0;32melse\u001b[0m\u001b[0;34m:\u001b[0m\u001b[0;34m\u001b[0m\u001b[0;34m\u001b[0m\u001b[0m\n\u001b[1;32m    116\u001b[0m             \u001b[0mX\u001b[0m\u001b[0;34m,\u001b[0m \u001b[0mlabels\u001b[0m \u001b[0;34m=\u001b[0m \u001b[0mX\u001b[0m\u001b[0;34m[\u001b[0m\u001b[0mindices\u001b[0m\u001b[0;34m]\u001b[0m\u001b[0;34m,\u001b[0m \u001b[0mlabels\u001b[0m\u001b[0;34m[\u001b[0m\u001b[0mindices\u001b[0m\u001b[0;34m]\u001b[0m\u001b[0;34m\u001b[0m\u001b[0;34m\u001b[0m\u001b[0m\n\u001b[0;32m--> 117\u001b[0;31m     \u001b[0;32mreturn\u001b[0m \u001b[0mnp\u001b[0m\u001b[0;34m.\u001b[0m\u001b[0mmean\u001b[0m\u001b[0;34m(\u001b[0m\u001b[0msilhouette_samples\u001b[0m\u001b[0;34m(\u001b[0m\u001b[0mX\u001b[0m\u001b[0;34m,\u001b[0m \u001b[0mlabels\u001b[0m\u001b[0;34m,\u001b[0m \u001b[0mmetric\u001b[0m\u001b[0;34m=\u001b[0m\u001b[0mmetric\u001b[0m\u001b[0;34m,\u001b[0m \u001b[0;34m**\u001b[0m\u001b[0mkwds\u001b[0m\u001b[0;34m)\u001b[0m\u001b[0;34m)\u001b[0m\u001b[0;34m\u001b[0m\u001b[0;34m\u001b[0m\u001b[0m\n\u001b[0m\u001b[1;32m    118\u001b[0m \u001b[0;34m\u001b[0m\u001b[0m\n\u001b[1;32m    119\u001b[0m \u001b[0;34m\u001b[0m\u001b[0m\n",
            "\u001b[0;32m/usr/local/lib/python3.6/dist-packages/sklearn/metrics/cluster/_unsupervised.py\u001b[0m in \u001b[0;36msilhouette_samples\u001b[0;34m(X, labels, metric, **kwds)\u001b[0m\n\u001b[1;32m    226\u001b[0m     \u001b[0mn_samples\u001b[0m \u001b[0;34m=\u001b[0m \u001b[0mlen\u001b[0m\u001b[0;34m(\u001b[0m\u001b[0mlabels\u001b[0m\u001b[0;34m)\u001b[0m\u001b[0;34m\u001b[0m\u001b[0;34m\u001b[0m\u001b[0m\n\u001b[1;32m    227\u001b[0m     \u001b[0mlabel_freqs\u001b[0m \u001b[0;34m=\u001b[0m \u001b[0mnp\u001b[0m\u001b[0;34m.\u001b[0m\u001b[0mbincount\u001b[0m\u001b[0;34m(\u001b[0m\u001b[0mlabels\u001b[0m\u001b[0;34m)\u001b[0m\u001b[0;34m\u001b[0m\u001b[0;34m\u001b[0m\u001b[0m\n\u001b[0;32m--> 228\u001b[0;31m     \u001b[0mcheck_number_of_labels\u001b[0m\u001b[0;34m(\u001b[0m\u001b[0mlen\u001b[0m\u001b[0;34m(\u001b[0m\u001b[0mle\u001b[0m\u001b[0;34m.\u001b[0m\u001b[0mclasses_\u001b[0m\u001b[0;34m)\u001b[0m\u001b[0;34m,\u001b[0m \u001b[0mn_samples\u001b[0m\u001b[0;34m)\u001b[0m\u001b[0;34m\u001b[0m\u001b[0;34m\u001b[0m\u001b[0m\n\u001b[0m\u001b[1;32m    229\u001b[0m \u001b[0;34m\u001b[0m\u001b[0m\n\u001b[1;32m    230\u001b[0m     \u001b[0mkwds\u001b[0m\u001b[0;34m[\u001b[0m\u001b[0;34m'metric'\u001b[0m\u001b[0;34m]\u001b[0m \u001b[0;34m=\u001b[0m \u001b[0mmetric\u001b[0m\u001b[0;34m\u001b[0m\u001b[0;34m\u001b[0m\u001b[0m\n",
            "\u001b[0;32m/usr/local/lib/python3.6/dist-packages/sklearn/metrics/cluster/_unsupervised.py\u001b[0m in \u001b[0;36mcheck_number_of_labels\u001b[0;34m(n_labels, n_samples)\u001b[0m\n\u001b[1;32m     33\u001b[0m     \u001b[0;32mif\u001b[0m \u001b[0;32mnot\u001b[0m \u001b[0;36m1\u001b[0m \u001b[0;34m<\u001b[0m \u001b[0mn_labels\u001b[0m \u001b[0;34m<\u001b[0m \u001b[0mn_samples\u001b[0m\u001b[0;34m:\u001b[0m\u001b[0;34m\u001b[0m\u001b[0;34m\u001b[0m\u001b[0m\n\u001b[1;32m     34\u001b[0m         raise ValueError(\"Number of labels is %d. Valid values are 2 \"\n\u001b[0;32m---> 35\u001b[0;31m                          \"to n_samples - 1 (inclusive)\" % n_labels)\n\u001b[0m\u001b[1;32m     36\u001b[0m \u001b[0;34m\u001b[0m\u001b[0m\n\u001b[1;32m     37\u001b[0m \u001b[0;34m\u001b[0m\u001b[0m\n",
            "\u001b[0;31mValueError\u001b[0m: Number of labels is 1. Valid values are 2 to n_samples - 1 (inclusive)"
          ]
        }
      ]
    },
    {
      "cell_type": "code",
      "metadata": {
        "id": "UHvIIfy1nNcX",
        "colab_type": "code",
        "colab": {
          "base_uri": "https://localhost:8080/",
          "height": 1000
        },
        "outputId": "3e925f31-4e7b-4719-e5ba-bad02187cb0c"
      },
      "source": [
        "# To find the right number of clusters\n",
        "\n",
        "from sklearn.metrics import silhouette_samples, silhouette_score\n",
        "from sklearn.cluster import KMeans\n",
        "\n",
        "# To find the ‘min_samples’ hyper parameter \n",
        "\n",
        "print(\"Enter the maximum value to which you want to check clusters : \")\n",
        "n_clusters = int(input())\n",
        "min_samples = [i for i in range(1, n_clusters+1)]\n",
        "\n",
        "               \n",
        "for i in min_samples:\n",
        "  print(\"eps value is : \"+str(i))\n",
        "  db = DBSCAN(eps=i, min_samples=4).fit(as_br)\n",
        "  core_samples_mask = np.zeros_like(db.labels_, dtype=bool)\n",
        "  core_samples_mask[db.core_sample_indices_] = True\n",
        "  labels = db.labels_\n",
        "  print(set(labels))\n",
        "  print(\"min_sample value =\" + str(i),\"\\n\" \n",
        "        \"total no. of clusters : \" + str(len(set(labels))))\n",
        "  print(\"\\n\\n\")"
      ],
      "execution_count": 58,
      "outputs": [
        {
          "output_type": "stream",
          "text": [
            "Enter the maximum value to which you want to check clusters : \n",
            "10\n",
            "eps value is : 1\n",
            "{0, 1}\n",
            "min_sample value =1 \n",
            "total no. of clusters : 2\n",
            "\n",
            "\n",
            "\n",
            "eps value is : 2\n",
            "{0, 1}\n",
            "min_sample value =2 \n",
            "total no. of clusters : 2\n",
            "\n",
            "\n",
            "\n",
            "eps value is : 3\n",
            "{0}\n",
            "min_sample value =3 \n",
            "total no. of clusters : 1\n",
            "\n",
            "\n",
            "\n",
            "eps value is : 4\n",
            "{0}\n",
            "min_sample value =4 \n",
            "total no. of clusters : 1\n",
            "\n",
            "\n",
            "\n",
            "eps value is : 5\n",
            "{0}\n",
            "min_sample value =5 \n",
            "total no. of clusters : 1\n",
            "\n",
            "\n",
            "\n",
            "eps value is : 6\n",
            "{0}\n",
            "min_sample value =6 \n",
            "total no. of clusters : 1\n",
            "\n",
            "\n",
            "\n",
            "eps value is : 7\n",
            "{0}\n",
            "min_sample value =7 \n",
            "total no. of clusters : 1\n",
            "\n",
            "\n",
            "\n",
            "eps value is : 8\n",
            "{0}\n",
            "min_sample value =8 \n",
            "total no. of clusters : 1\n",
            "\n",
            "\n",
            "\n",
            "eps value is : 9\n",
            "{0}\n",
            "min_sample value =9 \n",
            "total no. of clusters : 1\n",
            "\n",
            "\n",
            "\n",
            "eps value is : 10\n",
            "{0}\n",
            "min_sample value =10 \n",
            "total no. of clusters : 1\n",
            "\n",
            "\n",
            "\n"
          ],
          "name": "stdout"
        }
      ]
    },
    {
      "cell_type": "code",
      "metadata": {
        "id": "d_9HjcypueRn",
        "colab_type": "code",
        "colab": {
          "base_uri": "https://localhost:8080/",
          "height": 607
        },
        "outputId": "1e0b0cee-d732-4f83-cd6d-e1b18a8fdb94"
      },
      "source": [
        "#Ordering points to identify the clustering structure \n",
        "#(OPTICS) is an algorithm for finding density-based clusters in spatial data\n",
        "\n",
        "from sklearn.cluster import OPTICS, cluster_optics_dbscan\n",
        "import matplotlib.gridspec as gridspec\n",
        "\n",
        "clust = OPTICS(min_samples=10, xi=0.05, min_cluster_size=0.05)\n",
        "as_br = pd.DataFrame(as_br)\n",
        "as_br = as_br.iloc[:, [0, 1]].values \n",
        "\n",
        "clust.fit(as_br)\n",
        "plt.figure(figsize=(20, 16))\n",
        "G = gridspec.GridSpec(2, 3)\n",
        "ax2 = plt.subplot(G[1, 0])\n",
        "\n",
        "colors = ['royalblue', 'maroon', 'forestgreen', 'mediumorchid', 'tan', 'deeppink', 'olive', 'goldenrod', 'lightcyan', 'navy']\n",
        "\n",
        "for klass, color in zip(range(0, 5), colors):\n",
        "  clusters = as_br[clust.labels_ == klass]\n",
        "  ax2.plot(clusters[:, 0], clusters[:, 1], color, alpha=0.3)\n",
        "\n",
        "ax2.plot(as_br[clust.labels_ == -1, 0], as_br[clust.labels_ == -1, 1], 'k*', alpha=0.3)\n",
        "ax2.set_title('Automatic Clustering')\n",
        "\n",
        "plt.tight_layout()\n",
        "plt.show()"
      ],
      "execution_count": 59,
      "outputs": [
        {
          "output_type": "display_data",
          "data": {
            "image/png": "[encoded data removed]",
            "text/plain": [
              "<Figure size 1440x1152 with 1 Axes>"
            ]
          },
          "metadata": {
            "tags": [],
            "needs_background": "light"
          }
        }
      ]
    },
    {
      "cell_type": "code",
      "metadata": {
        "id": "uANEHhaK1iJL",
        "colab_type": "code",
        "colab": {
          "base_uri": "https://localhost:8080/",
          "height": 69
        },
        "outputId": "845a18ee-7ff9-4308-bc4d-c8c990da9db2"
      },
      "source": [
        "# Computing DBSCAN \n",
        "\n",
        "db = DBSCAN(eps=3.8, min_samples=6).fit(as_br)\n",
        "core_samples_mask = np.zeros_like(db.labels_, dtype=bool)\n",
        "core_samples_mask[db.core_sample_indices_] = True\n",
        "labels = db.labels_\n",
        "print(set(labels))\n",
        "\n",
        "n_clusters_ = len(set(labels))\n",
        "n_noise = list(labels).count(-1)\n",
        "\n",
        "print('Estimated no. of clusters: %d' % n_clusters_)\n",
        "print('Estimated no. of noise points : %d' % n_noise)"
      ],
      "execution_count": 60,
      "outputs": [
        {
          "output_type": "stream",
          "text": [
            "{0}\n",
            "Estimated no. of clusters: 1\n",
            "Estimated no. of noise points : 0\n"
          ],
          "name": "stdout"
        }
      ]
    },
    {
      "cell_type": "code",
      "metadata": {
        "id": "HH9W62ao1iJQ",
        "colab_type": "code",
        "colab": {}
      },
      "source": [
        ""
      ],
      "execution_count": 41,
      "outputs": []
    },
    {
      "cell_type": "code",
      "metadata": {
        "id": "1JS2OglEmXKr",
        "colab_type": "code",
        "colab": {}
      },
      "source": [
        ""
      ],
      "execution_count": null,
      "outputs": []
    },
    {
      "cell_type": "code",
      "metadata": {
        "id": "wl_nrh3zmXIs",
        "colab_type": "code",
        "colab": {}
      },
      "source": [
        ""
      ],
      "execution_count": null,
      "outputs": []
    },
    {
      "cell_type": "code",
      "metadata": {
        "id": "112yyU6h1iJd",
        "colab_type": "code",
        "colab": {}
      },
      "source": [
        "# Result is stored in list1\n",
        "\n",
        "list1 = [i for i in result]"
      ],
      "execution_count": null,
      "outputs": []
    },
    {
      "cell_type": "code",
      "metadata": {
        "id": "xR99uWIZ1iJj",
        "colab_type": "code",
        "colab": {}
      },
      "source": [
        "my_dt  = pd.DataFrame(list1)"
      ],
      "execution_count": null,
      "outputs": []
    },
    {
      "cell_type": "code",
      "metadata": {
        "id": "RCuMtzdw1iJp",
        "colab_type": "code",
        "colab": {}
      },
      "source": [
        "newlist = [i for i in my_dt.values.tolist()]"
      ],
      "execution_count": null,
      "outputs": []
    },
    {
      "cell_type": "code",
      "metadata": {
        "id": "HUwkU_Hz1iJt",
        "colab_type": "code",
        "colab": {}
      },
      "source": [
        "res1 = str(newlist)[1:-1]\n",
        "\n",
        "res2 = str(res1)[1:-1]\n"
      ],
      "execution_count": null,
      "outputs": []
    },
    {
      "cell_type": "code",
      "metadata": {
        "id": "qIOj97UQ1iJy",
        "colab_type": "code",
        "colab": {}
      },
      "source": [
        "r_new = re.findall('\\d+', res2)"
      ],
      "execution_count": null,
      "outputs": []
    },
    {
      "cell_type": "code",
      "metadata": {
        "id": "XyekiC9e1iJ3",
        "colab_type": "code",
        "colab": {}
      },
      "source": [
        "test_list = [int(i) for i in r_new]"
      ],
      "execution_count": null,
      "outputs": []
    },
    {
      "cell_type": "code",
      "metadata": {
        "id": "1OMU7oMs1iJ7",
        "colab_type": "code",
        "colab": {}
      },
      "source": [
        "as_br_error = as_br1.iloc[test_list, ]"
      ],
      "execution_count": null,
      "outputs": []
    },
    {
      "cell_type": "code",
      "metadata": {
        "id": "w71ZC6Eu1iKD",
        "colab_type": "code",
        "colab": {}
      },
      "source": [
        "df_error = as_br_error.iloc[:, 0]"
      ],
      "execution_count": null,
      "outputs": []
    },
    {
      "cell_type": "code",
      "metadata": {
        "id": "U5MCyFJe1iKJ",
        "colab_type": "code",
        "colab": {}
      },
      "source": [
        "df_er = df_error.to_list()"
      ],
      "execution_count": null,
      "outputs": []
    },
    {
      "cell_type": "code",
      "metadata": {
        "id": "-2I4zgIA1iKN",
        "colab_type": "code",
        "colab": {}
      },
      "source": [
        "df_2 = pd.read_csv(\"as_br_nona.csv\")\n",
        "df_2"
      ],
      "execution_count": null,
      "outputs": []
    },
    {
      "cell_type": "code",
      "metadata": {
        "id": "i1XQJJT41iKS",
        "colab_type": "code",
        "colab": {}
      },
      "source": [
        "df3 = df_2.loc[df_2['Unnamed: 0'].isin(df_er)]"
      ],
      "execution_count": null,
      "outputs": []
    },
    {
      "cell_type": "code",
      "metadata": {
        "id": "2xGdx4yS1iKW",
        "colab_type": "code",
        "colab": {}
      },
      "source": [
        "final_error = df3.iloc[:, 1]\n",
        "final_error"
      ],
      "execution_count": null,
      "outputs": []
    },
    {
      "cell_type": "code",
      "metadata": {
        "id": "38Jmqlik1iKc",
        "colab_type": "code",
        "colab": {}
      },
      "source": [
        "final_er = final_error.to_list()"
      ],
      "execution_count": null,
      "outputs": []
    },
    {
      "cell_type": "code",
      "metadata": {
        "id": "ZN5SKcNA1iKg",
        "colab_type": "code",
        "colab": {}
      },
      "source": [
        "final = df_1.loc[df_1['Weight'].isin(final_er)]"
      ],
      "execution_count": null,
      "outputs": []
    },
    {
      "cell_type": "code",
      "metadata": {
        "id": "_knXwYKL1iKk",
        "colab_type": "code",
        "colab": {}
      },
      "source": [
        "final.to_csv(\"final_error_data.csv\")"
      ],
      "execution_count": null,
      "outputs": []
    },
    {
      "cell_type": "code",
      "metadata": {
        "id": "TUtMuB6o1iKp",
        "colab_type": "code",
        "colab": {}
      },
      "source": [
        "pd.read_csv('final_error_data.csv')"
      ],
      "execution_count": null,
      "outputs": []
    },
    {
      "cell_type": "code",
      "metadata": {
        "id": "0PElTHuo1iKt",
        "colab_type": "code",
        "colab": {}
      },
      "source": [
        ""
      ],
      "execution_count": null,
      "outputs": []
    }
  ]
}